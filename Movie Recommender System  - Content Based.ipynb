{
 "cells": [
  {
   "cell_type": "markdown",
   "metadata": {},
   "source": [
    "## Explaratory Data Analysis"
   ]
  },
  {
   "cell_type": "code",
   "execution_count": 2,
   "metadata": {},
   "outputs": [],
   "source": [
    "# Importing Libraries\n",
    "import numpy as np\n",
    "import pandas as pd\n",
    "import seaborn as sns\n",
    "import matplotlib.pyplot as plt\n",
    "from sklearn.metrics.pairwise import cosine_similarity\n",
    "from sklearn.metrics import mean_squared_error\n",
    "from sklearn.model_selection import train_test_split\n",
    "from sklearn.feature_extraction.text import TfidfVectorizer\n",
    "from sklearn.metrics.pairwise import linear_kernel\n",
    "from ast import literal_eval\n",
    "import warnings\n",
    "warnings.filterwarnings(\"ignore\")\n",
    "sns.set_palette(\"magma\")\n",
    "pd.set_option(\"display.max_columns\", 50)"
   ]
  },
  {
   "cell_type": "markdown",
   "metadata": {},
   "source": [
    "#### Data Wrangling"
   ]
  },
  {
   "cell_type": "code",
   "execution_count": 3,
   "metadata": {},
   "outputs": [],
   "source": [
    "df = pd.read_csv(\"tmdb_5000_movies.csv\")\n",
    "df2 = pd.read_csv(\"tmdb_5000_credits.csv\")"
   ]
  },
  {
   "cell_type": "code",
   "execution_count": 4,
   "metadata": {},
   "outputs": [
    {
     "data": {
      "text/html": [
       "<div>\n",
       "<style scoped>\n",
       "    .dataframe tbody tr th:only-of-type {\n",
       "        vertical-align: middle;\n",
       "    }\n",
       "\n",
       "    .dataframe tbody tr th {\n",
       "        vertical-align: top;\n",
       "    }\n",
       "\n",
       "    .dataframe thead th {\n",
       "        text-align: right;\n",
       "    }\n",
       "</style>\n",
       "<table border=\"1\" class=\"dataframe\">\n",
       "  <thead>\n",
       "    <tr style=\"text-align: right;\">\n",
       "      <th></th>\n",
       "      <th>budget</th>\n",
       "      <th>genres</th>\n",
       "      <th>homepage</th>\n",
       "      <th>id</th>\n",
       "      <th>keywords</th>\n",
       "      <th>original_language</th>\n",
       "      <th>original_title</th>\n",
       "      <th>overview</th>\n",
       "      <th>popularity</th>\n",
       "      <th>production_companies</th>\n",
       "      <th>production_countries</th>\n",
       "      <th>release_date</th>\n",
       "      <th>revenue</th>\n",
       "      <th>runtime</th>\n",
       "      <th>spoken_languages</th>\n",
       "      <th>status</th>\n",
       "      <th>tagline</th>\n",
       "      <th>title</th>\n",
       "      <th>vote_average</th>\n",
       "      <th>vote_count</th>\n",
       "    </tr>\n",
       "  </thead>\n",
       "  <tbody>\n",
       "    <tr>\n",
       "      <th>0</th>\n",
       "      <td>237000000</td>\n",
       "      <td>[{\"id\": 28, \"name\": \"Action\"}, {\"id\": 12, \"nam...</td>\n",
       "      <td>http://www.avatarmovie.com/</td>\n",
       "      <td>19995</td>\n",
       "      <td>[{\"id\": 1463, \"name\": \"culture clash\"}, {\"id\":...</td>\n",
       "      <td>en</td>\n",
       "      <td>Avatar</td>\n",
       "      <td>In the 22nd century, a paraplegic Marine is di...</td>\n",
       "      <td>150.437577</td>\n",
       "      <td>[{\"name\": \"Ingenious Film Partners\", \"id\": 289...</td>\n",
       "      <td>[{\"iso_3166_1\": \"US\", \"name\": \"United States o...</td>\n",
       "      <td>2009-12-10</td>\n",
       "      <td>2787965087</td>\n",
       "      <td>162.0</td>\n",
       "      <td>[{\"iso_639_1\": \"en\", \"name\": \"English\"}, {\"iso...</td>\n",
       "      <td>Released</td>\n",
       "      <td>Enter the World of Pandora.</td>\n",
       "      <td>Avatar</td>\n",
       "      <td>7.2</td>\n",
       "      <td>11800</td>\n",
       "    </tr>\n",
       "    <tr>\n",
       "      <th>1</th>\n",
       "      <td>300000000</td>\n",
       "      <td>[{\"id\": 12, \"name\": \"Adventure\"}, {\"id\": 14, \"...</td>\n",
       "      <td>http://disney.go.com/disneypictures/pirates/</td>\n",
       "      <td>285</td>\n",
       "      <td>[{\"id\": 270, \"name\": \"ocean\"}, {\"id\": 726, \"na...</td>\n",
       "      <td>en</td>\n",
       "      <td>Pirates of the Caribbean: At World's End</td>\n",
       "      <td>Captain Barbossa, long believed to be dead, ha...</td>\n",
       "      <td>139.082615</td>\n",
       "      <td>[{\"name\": \"Walt Disney Pictures\", \"id\": 2}, {\"...</td>\n",
       "      <td>[{\"iso_3166_1\": \"US\", \"name\": \"United States o...</td>\n",
       "      <td>2007-05-19</td>\n",
       "      <td>961000000</td>\n",
       "      <td>169.0</td>\n",
       "      <td>[{\"iso_639_1\": \"en\", \"name\": \"English\"}]</td>\n",
       "      <td>Released</td>\n",
       "      <td>At the end of the world, the adventure begins.</td>\n",
       "      <td>Pirates of the Caribbean: At World's End</td>\n",
       "      <td>6.9</td>\n",
       "      <td>4500</td>\n",
       "    </tr>\n",
       "    <tr>\n",
       "      <th>2</th>\n",
       "      <td>245000000</td>\n",
       "      <td>[{\"id\": 28, \"name\": \"Action\"}, {\"id\": 12, \"nam...</td>\n",
       "      <td>http://www.sonypictures.com/movies/spectre/</td>\n",
       "      <td>206647</td>\n",
       "      <td>[{\"id\": 470, \"name\": \"spy\"}, {\"id\": 818, \"name...</td>\n",
       "      <td>en</td>\n",
       "      <td>Spectre</td>\n",
       "      <td>A cryptic message from Bond’s past sends him o...</td>\n",
       "      <td>107.376788</td>\n",
       "      <td>[{\"name\": \"Columbia Pictures\", \"id\": 5}, {\"nam...</td>\n",
       "      <td>[{\"iso_3166_1\": \"GB\", \"name\": \"United Kingdom\"...</td>\n",
       "      <td>2015-10-26</td>\n",
       "      <td>880674609</td>\n",
       "      <td>148.0</td>\n",
       "      <td>[{\"iso_639_1\": \"fr\", \"name\": \"Fran\\u00e7ais\"},...</td>\n",
       "      <td>Released</td>\n",
       "      <td>A Plan No One Escapes</td>\n",
       "      <td>Spectre</td>\n",
       "      <td>6.3</td>\n",
       "      <td>4466</td>\n",
       "    </tr>\n",
       "  </tbody>\n",
       "</table>\n",
       "</div>"
      ],
      "text/plain": [
       "      budget                                             genres  \\\n",
       "0  237000000  [{\"id\": 28, \"name\": \"Action\"}, {\"id\": 12, \"nam...   \n",
       "1  300000000  [{\"id\": 12, \"name\": \"Adventure\"}, {\"id\": 14, \"...   \n",
       "2  245000000  [{\"id\": 28, \"name\": \"Action\"}, {\"id\": 12, \"nam...   \n",
       "\n",
       "                                       homepage      id  \\\n",
       "0                   http://www.avatarmovie.com/   19995   \n",
       "1  http://disney.go.com/disneypictures/pirates/     285   \n",
       "2   http://www.sonypictures.com/movies/spectre/  206647   \n",
       "\n",
       "                                            keywords original_language  \\\n",
       "0  [{\"id\": 1463, \"name\": \"culture clash\"}, {\"id\":...                en   \n",
       "1  [{\"id\": 270, \"name\": \"ocean\"}, {\"id\": 726, \"na...                en   \n",
       "2  [{\"id\": 470, \"name\": \"spy\"}, {\"id\": 818, \"name...                en   \n",
       "\n",
       "                             original_title  \\\n",
       "0                                    Avatar   \n",
       "1  Pirates of the Caribbean: At World's End   \n",
       "2                                   Spectre   \n",
       "\n",
       "                                            overview  popularity  \\\n",
       "0  In the 22nd century, a paraplegic Marine is di...  150.437577   \n",
       "1  Captain Barbossa, long believed to be dead, ha...  139.082615   \n",
       "2  A cryptic message from Bond’s past sends him o...  107.376788   \n",
       "\n",
       "                                production_companies  \\\n",
       "0  [{\"name\": \"Ingenious Film Partners\", \"id\": 289...   \n",
       "1  [{\"name\": \"Walt Disney Pictures\", \"id\": 2}, {\"...   \n",
       "2  [{\"name\": \"Columbia Pictures\", \"id\": 5}, {\"nam...   \n",
       "\n",
       "                                production_countries release_date     revenue  \\\n",
       "0  [{\"iso_3166_1\": \"US\", \"name\": \"United States o...   2009-12-10  2787965087   \n",
       "1  [{\"iso_3166_1\": \"US\", \"name\": \"United States o...   2007-05-19   961000000   \n",
       "2  [{\"iso_3166_1\": \"GB\", \"name\": \"United Kingdom\"...   2015-10-26   880674609   \n",
       "\n",
       "   runtime                                   spoken_languages    status  \\\n",
       "0    162.0  [{\"iso_639_1\": \"en\", \"name\": \"English\"}, {\"iso...  Released   \n",
       "1    169.0           [{\"iso_639_1\": \"en\", \"name\": \"English\"}]  Released   \n",
       "2    148.0  [{\"iso_639_1\": \"fr\", \"name\": \"Fran\\u00e7ais\"},...  Released   \n",
       "\n",
       "                                          tagline  \\\n",
       "0                     Enter the World of Pandora.   \n",
       "1  At the end of the world, the adventure begins.   \n",
       "2                           A Plan No One Escapes   \n",
       "\n",
       "                                      title  vote_average  vote_count  \n",
       "0                                    Avatar           7.2       11800  \n",
       "1  Pirates of the Caribbean: At World's End           6.9        4500  \n",
       "2                                   Spectre           6.3        4466  "
      ]
     },
     "execution_count": 4,
     "metadata": {},
     "output_type": "execute_result"
    }
   ],
   "source": [
    "df.head(3)"
   ]
  },
  {
   "cell_type": "code",
   "execution_count": 5,
   "metadata": {},
   "outputs": [
    {
     "data": {
      "text/plain": [
       "(4803, 20)"
      ]
     },
     "execution_count": 5,
     "metadata": {},
     "output_type": "execute_result"
    }
   ],
   "source": [
    "df.shape"
   ]
  },
  {
   "cell_type": "code",
   "execution_count": 6,
   "metadata": {},
   "outputs": [
    {
     "data": {
      "text/html": [
       "<div>\n",
       "<style scoped>\n",
       "    .dataframe tbody tr th:only-of-type {\n",
       "        vertical-align: middle;\n",
       "    }\n",
       "\n",
       "    .dataframe tbody tr th {\n",
       "        vertical-align: top;\n",
       "    }\n",
       "\n",
       "    .dataframe thead th {\n",
       "        text-align: right;\n",
       "    }\n",
       "</style>\n",
       "<table border=\"1\" class=\"dataframe\">\n",
       "  <thead>\n",
       "    <tr style=\"text-align: right;\">\n",
       "      <th></th>\n",
       "      <th>movie_id</th>\n",
       "      <th>title</th>\n",
       "      <th>cast</th>\n",
       "      <th>crew</th>\n",
       "    </tr>\n",
       "  </thead>\n",
       "  <tbody>\n",
       "    <tr>\n",
       "      <th>0</th>\n",
       "      <td>19995</td>\n",
       "      <td>Avatar</td>\n",
       "      <td>[{\"cast_id\": 242, \"character\": \"Jake Sully\", \"...</td>\n",
       "      <td>[{\"credit_id\": \"52fe48009251416c750aca23\", \"de...</td>\n",
       "    </tr>\n",
       "    <tr>\n",
       "      <th>1</th>\n",
       "      <td>285</td>\n",
       "      <td>Pirates of the Caribbean: At World's End</td>\n",
       "      <td>[{\"cast_id\": 4, \"character\": \"Captain Jack Spa...</td>\n",
       "      <td>[{\"credit_id\": \"52fe4232c3a36847f800b579\", \"de...</td>\n",
       "    </tr>\n",
       "    <tr>\n",
       "      <th>2</th>\n",
       "      <td>206647</td>\n",
       "      <td>Spectre</td>\n",
       "      <td>[{\"cast_id\": 1, \"character\": \"James Bond\", \"cr...</td>\n",
       "      <td>[{\"credit_id\": \"54805967c3a36829b5002c41\", \"de...</td>\n",
       "    </tr>\n",
       "    <tr>\n",
       "      <th>3</th>\n",
       "      <td>49026</td>\n",
       "      <td>The Dark Knight Rises</td>\n",
       "      <td>[{\"cast_id\": 2, \"character\": \"Bruce Wayne / Ba...</td>\n",
       "      <td>[{\"credit_id\": \"52fe4781c3a36847f81398c3\", \"de...</td>\n",
       "    </tr>\n",
       "    <tr>\n",
       "      <th>4</th>\n",
       "      <td>49529</td>\n",
       "      <td>John Carter</td>\n",
       "      <td>[{\"cast_id\": 5, \"character\": \"John Carter\", \"c...</td>\n",
       "      <td>[{\"credit_id\": \"52fe479ac3a36847f813eaa3\", \"de...</td>\n",
       "    </tr>\n",
       "  </tbody>\n",
       "</table>\n",
       "</div>"
      ],
      "text/plain": [
       "   movie_id                                     title  \\\n",
       "0     19995                                    Avatar   \n",
       "1       285  Pirates of the Caribbean: At World's End   \n",
       "2    206647                                   Spectre   \n",
       "3     49026                     The Dark Knight Rises   \n",
       "4     49529                               John Carter   \n",
       "\n",
       "                                                cast  \\\n",
       "0  [{\"cast_id\": 242, \"character\": \"Jake Sully\", \"...   \n",
       "1  [{\"cast_id\": 4, \"character\": \"Captain Jack Spa...   \n",
       "2  [{\"cast_id\": 1, \"character\": \"James Bond\", \"cr...   \n",
       "3  [{\"cast_id\": 2, \"character\": \"Bruce Wayne / Ba...   \n",
       "4  [{\"cast_id\": 5, \"character\": \"John Carter\", \"c...   \n",
       "\n",
       "                                                crew  \n",
       "0  [{\"credit_id\": \"52fe48009251416c750aca23\", \"de...  \n",
       "1  [{\"credit_id\": \"52fe4232c3a36847f800b579\", \"de...  \n",
       "2  [{\"credit_id\": \"54805967c3a36829b5002c41\", \"de...  \n",
       "3  [{\"credit_id\": \"52fe4781c3a36847f81398c3\", \"de...  \n",
       "4  [{\"credit_id\": \"52fe479ac3a36847f813eaa3\", \"de...  "
      ]
     },
     "execution_count": 6,
     "metadata": {},
     "output_type": "execute_result"
    }
   ],
   "source": [
    "df2.head()"
   ]
  },
  {
   "cell_type": "code",
   "execution_count": 7,
   "metadata": {},
   "outputs": [
    {
     "data": {
      "text/plain": [
       "(4803, 4)"
      ]
     },
     "execution_count": 7,
     "metadata": {},
     "output_type": "execute_result"
    }
   ],
   "source": [
    "df2.shape"
   ]
  },
  {
   "cell_type": "code",
   "execution_count": 8,
   "metadata": {},
   "outputs": [],
   "source": [
    "movie = pd.merge(df, df2, how=\"inner\", left_on=\"id\", right_on=\"movie_id\")"
   ]
  },
  {
   "cell_type": "code",
   "execution_count": 9,
   "metadata": {},
   "outputs": [],
   "source": [
    "movie.set_index(\"original_title\", inplace=True)"
   ]
  },
  {
   "cell_type": "code",
   "execution_count": 10,
   "metadata": {},
   "outputs": [
    {
     "data": {
      "text/html": [
       "<div>\n",
       "<style scoped>\n",
       "    .dataframe tbody tr th:only-of-type {\n",
       "        vertical-align: middle;\n",
       "    }\n",
       "\n",
       "    .dataframe tbody tr th {\n",
       "        vertical-align: top;\n",
       "    }\n",
       "\n",
       "    .dataframe thead th {\n",
       "        text-align: right;\n",
       "    }\n",
       "</style>\n",
       "<table border=\"1\" class=\"dataframe\">\n",
       "  <thead>\n",
       "    <tr style=\"text-align: right;\">\n",
       "      <th></th>\n",
       "      <th>budget</th>\n",
       "      <th>genres</th>\n",
       "      <th>homepage</th>\n",
       "      <th>id</th>\n",
       "      <th>keywords</th>\n",
       "      <th>original_language</th>\n",
       "      <th>overview</th>\n",
       "      <th>popularity</th>\n",
       "      <th>production_companies</th>\n",
       "      <th>production_countries</th>\n",
       "      <th>release_date</th>\n",
       "      <th>revenue</th>\n",
       "      <th>runtime</th>\n",
       "      <th>spoken_languages</th>\n",
       "      <th>status</th>\n",
       "      <th>tagline</th>\n",
       "      <th>title_x</th>\n",
       "      <th>vote_average</th>\n",
       "      <th>vote_count</th>\n",
       "      <th>movie_id</th>\n",
       "      <th>title_y</th>\n",
       "      <th>cast</th>\n",
       "      <th>crew</th>\n",
       "    </tr>\n",
       "    <tr>\n",
       "      <th>original_title</th>\n",
       "      <th></th>\n",
       "      <th></th>\n",
       "      <th></th>\n",
       "      <th></th>\n",
       "      <th></th>\n",
       "      <th></th>\n",
       "      <th></th>\n",
       "      <th></th>\n",
       "      <th></th>\n",
       "      <th></th>\n",
       "      <th></th>\n",
       "      <th></th>\n",
       "      <th></th>\n",
       "      <th></th>\n",
       "      <th></th>\n",
       "      <th></th>\n",
       "      <th></th>\n",
       "      <th></th>\n",
       "      <th></th>\n",
       "      <th></th>\n",
       "      <th></th>\n",
       "      <th></th>\n",
       "      <th></th>\n",
       "    </tr>\n",
       "  </thead>\n",
       "  <tbody>\n",
       "    <tr>\n",
       "      <th>Avatar</th>\n",
       "      <td>237000000</td>\n",
       "      <td>[{\"id\": 28, \"name\": \"Action\"}, {\"id\": 12, \"nam...</td>\n",
       "      <td>http://www.avatarmovie.com/</td>\n",
       "      <td>19995</td>\n",
       "      <td>[{\"id\": 1463, \"name\": \"culture clash\"}, {\"id\":...</td>\n",
       "      <td>en</td>\n",
       "      <td>In the 22nd century, a paraplegic Marine is di...</td>\n",
       "      <td>150.437577</td>\n",
       "      <td>[{\"name\": \"Ingenious Film Partners\", \"id\": 289...</td>\n",
       "      <td>[{\"iso_3166_1\": \"US\", \"name\": \"United States o...</td>\n",
       "      <td>2009-12-10</td>\n",
       "      <td>2787965087</td>\n",
       "      <td>162.0</td>\n",
       "      <td>[{\"iso_639_1\": \"en\", \"name\": \"English\"}, {\"iso...</td>\n",
       "      <td>Released</td>\n",
       "      <td>Enter the World of Pandora.</td>\n",
       "      <td>Avatar</td>\n",
       "      <td>7.2</td>\n",
       "      <td>11800</td>\n",
       "      <td>19995</td>\n",
       "      <td>Avatar</td>\n",
       "      <td>[{\"cast_id\": 242, \"character\": \"Jake Sully\", \"...</td>\n",
       "      <td>[{\"credit_id\": \"52fe48009251416c750aca23\", \"de...</td>\n",
       "    </tr>\n",
       "    <tr>\n",
       "      <th>Pirates of the Caribbean: At World's End</th>\n",
       "      <td>300000000</td>\n",
       "      <td>[{\"id\": 12, \"name\": \"Adventure\"}, {\"id\": 14, \"...</td>\n",
       "      <td>http://disney.go.com/disneypictures/pirates/</td>\n",
       "      <td>285</td>\n",
       "      <td>[{\"id\": 270, \"name\": \"ocean\"}, {\"id\": 726, \"na...</td>\n",
       "      <td>en</td>\n",
       "      <td>Captain Barbossa, long believed to be dead, ha...</td>\n",
       "      <td>139.082615</td>\n",
       "      <td>[{\"name\": \"Walt Disney Pictures\", \"id\": 2}, {\"...</td>\n",
       "      <td>[{\"iso_3166_1\": \"US\", \"name\": \"United States o...</td>\n",
       "      <td>2007-05-19</td>\n",
       "      <td>961000000</td>\n",
       "      <td>169.0</td>\n",
       "      <td>[{\"iso_639_1\": \"en\", \"name\": \"English\"}]</td>\n",
       "      <td>Released</td>\n",
       "      <td>At the end of the world, the adventure begins.</td>\n",
       "      <td>Pirates of the Caribbean: At World's End</td>\n",
       "      <td>6.9</td>\n",
       "      <td>4500</td>\n",
       "      <td>285</td>\n",
       "      <td>Pirates of the Caribbean: At World's End</td>\n",
       "      <td>[{\"cast_id\": 4, \"character\": \"Captain Jack Spa...</td>\n",
       "      <td>[{\"credit_id\": \"52fe4232c3a36847f800b579\", \"de...</td>\n",
       "    </tr>\n",
       "    <tr>\n",
       "      <th>Spectre</th>\n",
       "      <td>245000000</td>\n",
       "      <td>[{\"id\": 28, \"name\": \"Action\"}, {\"id\": 12, \"nam...</td>\n",
       "      <td>http://www.sonypictures.com/movies/spectre/</td>\n",
       "      <td>206647</td>\n",
       "      <td>[{\"id\": 470, \"name\": \"spy\"}, {\"id\": 818, \"name...</td>\n",
       "      <td>en</td>\n",
       "      <td>A cryptic message from Bond’s past sends him o...</td>\n",
       "      <td>107.376788</td>\n",
       "      <td>[{\"name\": \"Columbia Pictures\", \"id\": 5}, {\"nam...</td>\n",
       "      <td>[{\"iso_3166_1\": \"GB\", \"name\": \"United Kingdom\"...</td>\n",
       "      <td>2015-10-26</td>\n",
       "      <td>880674609</td>\n",
       "      <td>148.0</td>\n",
       "      <td>[{\"iso_639_1\": \"fr\", \"name\": \"Fran\\u00e7ais\"},...</td>\n",
       "      <td>Released</td>\n",
       "      <td>A Plan No One Escapes</td>\n",
       "      <td>Spectre</td>\n",
       "      <td>6.3</td>\n",
       "      <td>4466</td>\n",
       "      <td>206647</td>\n",
       "      <td>Spectre</td>\n",
       "      <td>[{\"cast_id\": 1, \"character\": \"James Bond\", \"cr...</td>\n",
       "      <td>[{\"credit_id\": \"54805967c3a36829b5002c41\", \"de...</td>\n",
       "    </tr>\n",
       "  </tbody>\n",
       "</table>\n",
       "</div>"
      ],
      "text/plain": [
       "                                             budget  \\\n",
       "original_title                                        \n",
       "Avatar                                    237000000   \n",
       "Pirates of the Caribbean: At World's End  300000000   \n",
       "Spectre                                   245000000   \n",
       "\n",
       "                                                                                     genres  \\\n",
       "original_title                                                                                \n",
       "Avatar                                    [{\"id\": 28, \"name\": \"Action\"}, {\"id\": 12, \"nam...   \n",
       "Pirates of the Caribbean: At World's End  [{\"id\": 12, \"name\": \"Adventure\"}, {\"id\": 14, \"...   \n",
       "Spectre                                   [{\"id\": 28, \"name\": \"Action\"}, {\"id\": 12, \"nam...   \n",
       "\n",
       "                                                                              homepage  \\\n",
       "original_title                                                                           \n",
       "Avatar                                                     http://www.avatarmovie.com/   \n",
       "Pirates of the Caribbean: At World's End  http://disney.go.com/disneypictures/pirates/   \n",
       "Spectre                                    http://www.sonypictures.com/movies/spectre/   \n",
       "\n",
       "                                              id  \\\n",
       "original_title                                     \n",
       "Avatar                                     19995   \n",
       "Pirates of the Caribbean: At World's End     285   \n",
       "Spectre                                   206647   \n",
       "\n",
       "                                                                                   keywords  \\\n",
       "original_title                                                                                \n",
       "Avatar                                    [{\"id\": 1463, \"name\": \"culture clash\"}, {\"id\":...   \n",
       "Pirates of the Caribbean: At World's End  [{\"id\": 270, \"name\": \"ocean\"}, {\"id\": 726, \"na...   \n",
       "Spectre                                   [{\"id\": 470, \"name\": \"spy\"}, {\"id\": 818, \"name...   \n",
       "\n",
       "                                         original_language  \\\n",
       "original_title                                               \n",
       "Avatar                                                  en   \n",
       "Pirates of the Caribbean: At World's End                en   \n",
       "Spectre                                                 en   \n",
       "\n",
       "                                                                                   overview  \\\n",
       "original_title                                                                                \n",
       "Avatar                                    In the 22nd century, a paraplegic Marine is di...   \n",
       "Pirates of the Caribbean: At World's End  Captain Barbossa, long believed to be dead, ha...   \n",
       "Spectre                                   A cryptic message from Bond’s past sends him o...   \n",
       "\n",
       "                                          popularity  \\\n",
       "original_title                                         \n",
       "Avatar                                    150.437577   \n",
       "Pirates of the Caribbean: At World's End  139.082615   \n",
       "Spectre                                   107.376788   \n",
       "\n",
       "                                                                       production_companies  \\\n",
       "original_title                                                                                \n",
       "Avatar                                    [{\"name\": \"Ingenious Film Partners\", \"id\": 289...   \n",
       "Pirates of the Caribbean: At World's End  [{\"name\": \"Walt Disney Pictures\", \"id\": 2}, {\"...   \n",
       "Spectre                                   [{\"name\": \"Columbia Pictures\", \"id\": 5}, {\"nam...   \n",
       "\n",
       "                                                                       production_countries  \\\n",
       "original_title                                                                                \n",
       "Avatar                                    [{\"iso_3166_1\": \"US\", \"name\": \"United States o...   \n",
       "Pirates of the Caribbean: At World's End  [{\"iso_3166_1\": \"US\", \"name\": \"United States o...   \n",
       "Spectre                                   [{\"iso_3166_1\": \"GB\", \"name\": \"United Kingdom\"...   \n",
       "\n",
       "                                         release_date     revenue  runtime  \\\n",
       "original_title                                                               \n",
       "Avatar                                     2009-12-10  2787965087    162.0   \n",
       "Pirates of the Caribbean: At World's End   2007-05-19   961000000    169.0   \n",
       "Spectre                                    2015-10-26   880674609    148.0   \n",
       "\n",
       "                                                                           spoken_languages  \\\n",
       "original_title                                                                                \n",
       "Avatar                                    [{\"iso_639_1\": \"en\", \"name\": \"English\"}, {\"iso...   \n",
       "Pirates of the Caribbean: At World's End           [{\"iso_639_1\": \"en\", \"name\": \"English\"}]   \n",
       "Spectre                                   [{\"iso_639_1\": \"fr\", \"name\": \"Fran\\u00e7ais\"},...   \n",
       "\n",
       "                                            status  \\\n",
       "original_title                                       \n",
       "Avatar                                    Released   \n",
       "Pirates of the Caribbean: At World's End  Released   \n",
       "Spectre                                   Released   \n",
       "\n",
       "                                                                                 tagline  \\\n",
       "original_title                                                                             \n",
       "Avatar                                                       Enter the World of Pandora.   \n",
       "Pirates of the Caribbean: At World's End  At the end of the world, the adventure begins.   \n",
       "Spectre                                                            A Plan No One Escapes   \n",
       "\n",
       "                                                                           title_x  \\\n",
       "original_title                                                                       \n",
       "Avatar                                                                      Avatar   \n",
       "Pirates of the Caribbean: At World's End  Pirates of the Caribbean: At World's End   \n",
       "Spectre                                                                    Spectre   \n",
       "\n",
       "                                          vote_average  vote_count  movie_id  \\\n",
       "original_title                                                                 \n",
       "Avatar                                             7.2       11800     19995   \n",
       "Pirates of the Caribbean: At World's End           6.9        4500       285   \n",
       "Spectre                                            6.3        4466    206647   \n",
       "\n",
       "                                                                           title_y  \\\n",
       "original_title                                                                       \n",
       "Avatar                                                                      Avatar   \n",
       "Pirates of the Caribbean: At World's End  Pirates of the Caribbean: At World's End   \n",
       "Spectre                                                                    Spectre   \n",
       "\n",
       "                                                                                       cast  \\\n",
       "original_title                                                                                \n",
       "Avatar                                    [{\"cast_id\": 242, \"character\": \"Jake Sully\", \"...   \n",
       "Pirates of the Caribbean: At World's End  [{\"cast_id\": 4, \"character\": \"Captain Jack Spa...   \n",
       "Spectre                                   [{\"cast_id\": 1, \"character\": \"James Bond\", \"cr...   \n",
       "\n",
       "                                                                                       crew  \n",
       "original_title                                                                               \n",
       "Avatar                                    [{\"credit_id\": \"52fe48009251416c750aca23\", \"de...  \n",
       "Pirates of the Caribbean: At World's End  [{\"credit_id\": \"52fe4232c3a36847f800b579\", \"de...  \n",
       "Spectre                                   [{\"credit_id\": \"54805967c3a36829b5002c41\", \"de...  "
      ]
     },
     "execution_count": 10,
     "metadata": {},
     "output_type": "execute_result"
    }
   ],
   "source": [
    "movie.head(3)"
   ]
  },
  {
   "cell_type": "code",
   "execution_count": 11,
   "metadata": {},
   "outputs": [],
   "source": [
    "# Some features are consist of list and dictionary type objects. However, read_csv turns them into string format.\n",
    "# literal_eval function allows us to convert them into original format.\n",
    "\n",
    "features = [\"genres\", \"keywords\", \"production_companies\", \"production_countries\", \"spoken_languages\", \"cast\", \"crew\"]\n",
    "for feat in features:\n",
    "    movie[feat] = movie[feat].apply(literal_eval)"
   ]
  },
  {
   "cell_type": "code",
   "execution_count": 12,
   "metadata": {},
   "outputs": [],
   "source": [
    "# Get values from dictionaries\n",
    "\n",
    "for i in [\"genres\", \"keywords\", \"production_companies\", \"production_countries\", \"spoken_languages\"]:\n",
    "    movie[i] = movie[i].apply(lambda x: [y[\"name\"] for y in x])"
   ]
  },
  {
   "cell_type": "code",
   "execution_count": 13,
   "metadata": {},
   "outputs": [],
   "source": [
    "# First five cast members of all films\n",
    "\n",
    "movie[\"cast\"] = movie[\"cast\"].apply(lambda x: [y[\"name\"] for y in x][:5])"
   ]
  },
  {
   "cell_type": "code",
   "execution_count": 14,
   "metadata": {},
   "outputs": [
    {
     "data": {
      "text/plain": [
       "Released           4795\n",
       "Rumored               5\n",
       "Post Production       3\n",
       "Name: status, dtype: int64"
      ]
     },
     "execution_count": 14,
     "metadata": {},
     "output_type": "execute_result"
    }
   ],
   "source": [
    "movie[\"status\"].value_counts()"
   ]
  },
  {
   "cell_type": "code",
   "execution_count": 15,
   "metadata": {},
   "outputs": [],
   "source": [
    "# Movies with Rumored and Post Production status are removed.\n",
    "\n",
    "movie = movie[movie[\"status\"] == \"Released\"]"
   ]
  },
  {
   "cell_type": "code",
   "execution_count": 16,
   "metadata": {},
   "outputs": [],
   "source": [
    "# Some features will not be important for future process. They are removed.\n",
    "\n",
    "movie.drop([\"title_x\", \"title_y\", \"id\", \"movie_id\", \"homepage\", \"status\", \"tagline\", \"crew\"], axis=1, inplace=True)"
   ]
  },
  {
   "cell_type": "code",
   "execution_count": 17,
   "metadata": {},
   "outputs": [
    {
     "data": {
      "text/plain": [
       "(4795, 15)"
      ]
     },
     "execution_count": 17,
     "metadata": {},
     "output_type": "execute_result"
    }
   ],
   "source": [
    "movie.shape"
   ]
  },
  {
   "cell_type": "markdown",
   "metadata": {},
   "source": [
    "#### Data Visualization"
   ]
  },
  {
   "cell_type": "code",
   "execution_count": 18,
   "metadata": {},
   "outputs": [],
   "source": [
    "# Code for getting genre count\n",
    "\n",
    "genre  = dict()\n",
    "for i in movie[\"genres\"]:\n",
    "    for j in i:\n",
    "        if j not in genre:\n",
    "            genre[j] = 1\n",
    "        else:\n",
    "            genre[j] += 1\n",
    "genre = dict(sorted(genre.items(), key=lambda x: x[1], reverse=True))"
   ]
  },
  {
   "cell_type": "code",
   "execution_count": 19,
   "metadata": {},
   "outputs": [
    {
     "data": {
      "text/plain": [
       "<matplotlib.axes._subplots.AxesSubplot at 0x2078d0f3e08>"
      ]
     },
     "execution_count": 19,
     "metadata": {},
     "output_type": "execute_result"
    },
    {
     "data": {
      "image/png": "[encoded data removed]",
      "text/plain": [
       "<Figure size 864x432 with 1 Axes>"
      ]
     },
     "metadata": {
      "needs_background": "light"
     },
     "output_type": "display_data"
    }
   ],
   "source": [
    "plt.figure(figsize=(12,6))\n",
    "plt.title(\"Count of Genres\", c=\"blue\", size=14)\n",
    "sns.barplot(y = list(genre.keys()), x = list(genre.values()), orient=\"h\", palette=\"magma\")"
   ]
  },
  {
   "cell_type": "code",
   "execution_count": 20,
   "metadata": {},
   "outputs": [],
   "source": [
    "# Code for getting production company count\n",
    "\n",
    "company  = dict()\n",
    "for i in movie[\"production_companies\"]:\n",
    "    for j in i:\n",
    "        if j not in company:\n",
    "            company[j] = 1\n",
    "        else:\n",
    "            company[j] += 1\n",
    "company = dict(sorted(company.items(), key=lambda x: x[1], reverse=True))"
   ]
  },
  {
   "cell_type": "code",
   "execution_count": 29,
   "metadata": {},
   "outputs": [
    {
     "data": {
      "text/plain": [
       "<matplotlib.axes._subplots.AxesSubplot at 0x2079a567408>"
      ]
     },
     "execution_count": 29,
     "metadata": {},
     "output_type": "execute_result"
    },
    {
     "data": {
      "image/png": "[encoded data removed]",
      "text/plain": [
       "<Figure size 864x432 with 1 Axes>"
      ]
     },
     "metadata": {
      "needs_background": "light"
     },
     "output_type": "display_data"
    }
   ],
   "source": [
    "plt.figure(figsize=(12,6))\n",
    "plt.title(\"Top 10 Production Companies That Have The Highest Movie Count\", c=\"blue\", size=14)\n",
    "sns.barplot(y = list(company.keys())[:10], x = list(company.values())[:10], orient=\"h\", palette=\"mako\")"
   ]
  },
  {
   "cell_type": "code",
   "execution_count": 26,
   "metadata": {},
   "outputs": [],
   "source": [
    "# Code for getting country count\n",
    "\n",
    "country  = dict()\n",
    "for i in movie[\"production_countries\"]:\n",
    "    for j in i:\n",
    "        if j not in country:\n",
    "            country[j] = 1\n",
    "        else:\n",
    "            country[j] += 1\n",
    "country = dict(sorted(country.items(), key=lambda x: x[1], reverse=True))"
   ]
  },
  {
   "cell_type": "code",
   "execution_count": 34,
   "metadata": {},
   "outputs": [
    {
     "data": {
      "text/plain": [
       "<matplotlib.axes._subplots.AxesSubplot at 0x2079a459908>"
      ]
     },
     "execution_count": 34,
     "metadata": {},
     "output_type": "execute_result"
    },
    {
     "data": {
      "image/png": "[encoded data removed]",
      "text/plain": [
       "<Figure size 864x432 with 1 Axes>"
      ]
     },
     "metadata": {
      "needs_background": "light"
     },
     "output_type": "display_data"
    }
   ],
   "source": [
    "plt.figure(figsize=(12,6))\n",
    "plt.title(\"Top 10 Countries That Have The Highest Movie Count\", c=\"blue\", size=14)\n",
    "sns.barplot(y = list(country.keys())[:10], x = list(country.values())[:10], orient=\"h\", palette=\"rocket\")"
   ]
  },
  {
   "cell_type": "code",
   "execution_count": 31,
   "metadata": {},
   "outputs": [],
   "source": [
    "# Code for getting cast count\n",
    "\n",
    "cast  = dict()\n",
    "for i in movie[\"cast\"]:\n",
    "    for j in i:\n",
    "        if j not in cast:\n",
    "            cast[j] = 1\n",
    "        else:\n",
    "            cast[j] += 1\n",
    "cast = dict(sorted(cast.items(), key=lambda x: x[1], reverse=True))"
   ]
  },
  {
   "cell_type": "code",
   "execution_count": 38,
   "metadata": {},
   "outputs": [
    {
     "data": {
      "text/plain": [
       "<matplotlib.axes._subplots.AxesSubplot at 0x2079a39c148>"
      ]
     },
     "execution_count": 38,
     "metadata": {},
     "output_type": "execute_result"
    },
    {
     "data": {
      "image/png": "[encoded data removed]",
      "text/plain": [
       "<Figure size 864x432 with 1 Axes>"
      ]
     },
     "metadata": {
      "needs_background": "light"
     },
     "output_type": "display_data"
    }
   ],
   "source": [
    "plt.figure(figsize=(12,6))\n",
    "plt.title(\"Top 10 Cast Members That Have The Highest Movie Count\", c=\"blue\", size=14)\n",
    "sns.barplot(y = list(cast.keys())[:10], x = list(cast.values())[:10], orient=\"h\", palette=\"rainbow\")"
   ]
  },
  {
   "cell_type": "markdown",
   "metadata": {},
   "source": [
    "#### Filling Missing Values"
   ]
  },
  {
   "cell_type": "code",
   "execution_count": 39,
   "metadata": {},
   "outputs": [
    {
     "data": {
      "text/plain": [
       "budget                  0\n",
       "genres                  0\n",
       "keywords                0\n",
       "original_language       0\n",
       "overview                3\n",
       "popularity              0\n",
       "production_companies    0\n",
       "production_countries    0\n",
       "release_date            1\n",
       "revenue                 0\n",
       "runtime                 2\n",
       "spoken_languages        0\n",
       "vote_average            0\n",
       "vote_count              0\n",
       "cast                    0\n",
       "dtype: int64"
      ]
     },
     "execution_count": 39,
     "metadata": {},
     "output_type": "execute_result"
    }
   ],
   "source": [
    "movie.isnull().sum()"
   ]
  },
  {
   "cell_type": "code",
   "execution_count": 41,
   "metadata": {},
   "outputs": [],
   "source": [
    "movie[\"overview\"].fillna(\"\", inplace=True)"
   ]
  },
  {
   "cell_type": "code",
   "execution_count": 42,
   "metadata": {},
   "outputs": [],
   "source": [
    "# Empty lists will be converted to Unknown.\n",
    "\n",
    "for i in [\"genres\", \"keywords\", \"production_companies\", \"production_countries\", \"spoken_languages\", \"cast\"]:\n",
    "    movie[i] = movie[i].apply(lambda x: x + [\"Unknown\"]  if len(x) == 0 else x)"
   ]
  },
  {
   "cell_type": "markdown",
   "metadata": {},
   "source": [
    "## Content Based Recommendation"
   ]
  },
  {
   "cell_type": "markdown",
   "metadata": {},
   "source": [
    "#### Recommendation by Genre"
   ]
  },
  {
   "cell_type": "code",
   "execution_count": 43,
   "metadata": {},
   "outputs": [
    {
     "data": {
      "text/plain": [
       "original_title\n",
       "Avatar                                      [Action, Adventure, Fantasy, Science Fiction]\n",
       "Pirates of the Caribbean: At World's End                     [Adventure, Fantasy, Action]\n",
       "Spectre                                                        [Action, Adventure, Crime]\n",
       "The Dark Knight Rises                                    [Action, Crime, Drama, Thriller]\n",
       "John Carter                                          [Action, Adventure, Science Fiction]\n",
       "Name: genres, dtype: object"
      ]
     },
     "execution_count": 43,
     "metadata": {},
     "output_type": "execute_result"
    }
   ],
   "source": [
    "movie[\"genres\"].head()"
   ]
  },
  {
   "cell_type": "code",
   "execution_count": 44,
   "metadata": {},
   "outputs": [],
   "source": [
    "# \"TV Movie\" will falsify Tf-Idf score. So that, TV Movie is changed with TV_Movie\n",
    "\n",
    "movie[\"genres\"] = movie[\"genres\"].apply(lambda x:[\"TV_Movie\" if i == \"TV Movie\" else i for i in x])\n",
    "movie[\"genres\"] = movie[\"genres\"].apply(lambda x: \" \".join(x))"
   ]
  },
  {
   "cell_type": "code",
   "execution_count": 45,
   "metadata": {},
   "outputs": [
    {
     "data": {
      "text/plain": [
       "(4795, 22)"
      ]
     },
     "execution_count": 45,
     "metadata": {},
     "output_type": "execute_result"
    }
   ],
   "source": [
    "tfidf = TfidfVectorizer(stop_words=\"english\")\n",
    "overview_matrix_genre = tfidf.fit_transform(movie[\"genres\"])\n",
    "overview_matrix_genre.shape"
   ]
  },
  {
   "cell_type": "code",
   "execution_count": 46,
   "metadata": {},
   "outputs": [
    {
     "data": {
      "text/plain": [
       "array([[1.        , 0.74508627, 0.42935843, ..., 0.        , 0.        ,\n",
       "        0.        ],\n",
       "       [0.74508627, 1.        , 0.57625331, ..., 0.        , 0.        ,\n",
       "        0.        ],\n",
       "       [0.42935843, 0.57625331, 1.        , ..., 0.        , 0.        ,\n",
       "        0.        ],\n",
       "       ...,\n",
       "       [0.        , 0.        , 0.        , ..., 1.        , 0.        ,\n",
       "        0.        ],\n",
       "       [0.        , 0.        , 0.        , ..., 0.        , 1.        ,\n",
       "        0.        ],\n",
       "       [0.        , 0.        , 0.        , ..., 0.        , 0.        ,\n",
       "        1.        ]])"
      ]
     },
     "execution_count": 46,
     "metadata": {},
     "output_type": "execute_result"
    }
   ],
   "source": [
    "similarity_matrix_genre = linear_kernel(overview_matrix_genre,overview_matrix_genre)\n",
    "similarity_matrix_genre"
   ]
  },
  {
   "cell_type": "code",
   "execution_count": 47,
   "metadata": {},
   "outputs": [
    {
     "data": {
      "text/plain": [
       "original_title\n",
       "Avatar                                      0\n",
       "Pirates of the Caribbean: At World's End    1\n",
       "Spectre                                     2\n",
       "The Dark Knight Rises                       3\n",
       "John Carter                                 4\n",
       "dtype: int64"
      ]
     },
     "execution_count": 47,
     "metadata": {},
     "output_type": "execute_result"
    }
   ],
   "source": [
    "# movie_index will be useful for identifying the index of input movie\n",
    "\n",
    "movie_index = pd.Series(data=list(range(movie.shape[0])), index = movie.index)\n",
    "movie_index.head()"
   ]
  },
  {
   "cell_type": "code",
   "execution_count": 48,
   "metadata": {},
   "outputs": [],
   "source": [
    "def recommend_movie_by_genre(x):\n",
    "    \n",
    "    \"\"\" This function apply these phases: \n",
    "        \n",
    "        1. Find the index of input movie\n",
    "        2. Create dataframe by the data of similarity_matrix_genre with using index of movie\n",
    "        3. Sort dataframe by the similarity values\n",
    "        4. Recommend 10 movie \"\"\"\n",
    "    \n",
    "    new_index = movie_index[x]\n",
    "    df = pd.DataFrame(similarity_matrix_genre[new_index], index=movie.index)\n",
    "    df.sort_values(by=0, ascending=False, inplace=True)\n",
    "    \n",
    "    print(\"Recommended Movies for\", x, \"by Genre Type\")\n",
    "    print(\"\\n\")\n",
    "    print(\"*****\")\n",
    "    \n",
    "    if x in df.index[:10]:\n",
    "        for i in df.index[:11]:\n",
    "            if i != x:\n",
    "                print(i)\n",
    "    else:\n",
    "        for i in df.index[:10]:\n",
    "            print(i)\n",
    "    print(\"*****\")"
   ]
  },
  {
   "cell_type": "code",
   "execution_count": 49,
   "metadata": {},
   "outputs": [
    {
     "name": "stdout",
     "output_type": "stream",
     "text": [
      "Recommended Movies for Star Wars by Genre Type\n",
      "\n",
      "\n",
      "*****\n",
      "Six-String Samurai\n",
      "Fantastic Four\n",
      "Total Recall\n",
      "Return of the Jedi\n",
      "Iron Man\n",
      "Star Wars: Episode III - Revenge of the Sith\n",
      "Star Wars: Episode II - Attack of the Clones\n",
      "Star Wars: Episode I - The Phantom Menace\n",
      "2012\n",
      "After Earth\n",
      "*****\n"
     ]
    }
   ],
   "source": [
    "recommend_movie_by_genre(\"Star Wars\")"
   ]
  },
  {
   "cell_type": "code",
   "execution_count": 50,
   "metadata": {},
   "outputs": [
    {
     "name": "stdout",
     "output_type": "stream",
     "text": [
      "Recommended Movies for Fury by Genre Type\n",
      "\n",
      "\n",
      "*****\n",
      "Platoon\n",
      "Tears of the Sun\n",
      "American Sniper\n",
      "300: Rise of an Empire\n",
      "U-571\n",
      "Behind Enemy Lines\n",
      "Lone Survivor\n",
      "The Train\n",
      "Inglourious Basterds\n",
      "The Boy in the Striped Pyjamas\n",
      "*****\n"
     ]
    }
   ],
   "source": [
    "recommend_movie_by_genre(\"Fury\")"
   ]
  },
  {
   "cell_type": "markdown",
   "metadata": {},
   "source": [
    "#### Recommend by Overview"
   ]
  },
  {
   "cell_type": "code",
   "execution_count": 53,
   "metadata": {},
   "outputs": [
    {
     "data": {
      "text/plain": [
       "original_title\n",
       "Avatar                                      In the 22nd century, a paraplegic Marine is di...\n",
       "Pirates of the Caribbean: At World's End    Captain Barbossa, long believed to be dead, ha...\n",
       "Spectre                                     A cryptic message from Bond’s past sends him o...\n",
       "The Dark Knight Rises                       Following the death of District Attorney Harve...\n",
       "John Carter                                 John Carter is a war-weary, former military ca...\n",
       "Name: overview, dtype: object"
      ]
     },
     "execution_count": 53,
     "metadata": {},
     "output_type": "execute_result"
    }
   ],
   "source": [
    "movie[\"overview\"].head()"
   ]
  },
  {
   "cell_type": "code",
   "execution_count": 54,
   "metadata": {},
   "outputs": [
    {
     "data": {
      "text/plain": [
       "(4795, 20970)"
      ]
     },
     "execution_count": 54,
     "metadata": {},
     "output_type": "execute_result"
    }
   ],
   "source": [
    "tfidf = TfidfVectorizer(stop_words=\"english\")\n",
    "overview_matrix_overview = tfidf.fit_transform(movie[\"overview\"])\n",
    "overview_matrix_overview.shape"
   ]
  },
  {
   "cell_type": "code",
   "execution_count": 55,
   "metadata": {},
   "outputs": [
    {
     "data": {
      "text/plain": [
       "array([[1.        , 0.        , 0.        , ..., 0.        , 0.        ,\n",
       "        0.        ],\n",
       "       [0.        , 1.        , 0.        , ..., 0.02160086, 0.        ,\n",
       "        0.        ],\n",
       "       [0.        , 0.        , 1.        , ..., 0.01487813, 0.        ,\n",
       "        0.        ],\n",
       "       ...,\n",
       "       [0.        , 0.02160086, 0.01487813, ..., 1.        , 0.01608529,\n",
       "        0.00701461],\n",
       "       [0.        , 0.        , 0.        , ..., 0.01608529, 1.        ,\n",
       "        0.01170856],\n",
       "       [0.        , 0.        , 0.        , ..., 0.00701461, 0.01170856,\n",
       "        1.        ]])"
      ]
     },
     "execution_count": 55,
     "metadata": {},
     "output_type": "execute_result"
    }
   ],
   "source": [
    "similarity_matrix_overview = linear_kernel(overview_matrix_overview,overview_matrix_overview)\n",
    "similarity_matrix_overview"
   ]
  },
  {
   "cell_type": "code",
   "execution_count": 56,
   "metadata": {},
   "outputs": [],
   "source": [
    "def recommend_movie_by_overview(x):\n",
    "    \n",
    "    \n",
    "    \"\"\" This function apply these phases: \n",
    "        \n",
    "        1. Find the index of input movie\n",
    "        2. Create dataframe by the data of similarity_matrix_overview with using index of movie\n",
    "        3. Sort dataframe by the similarity values\n",
    "        4. Recommend 10 movie \"\"\"\n",
    "    \n",
    "    new_index = movie_index[x]\n",
    "    df = pd.DataFrame(similarity_matrix_overview[new_index], index=movie.index)\n",
    "    df.sort_values(by=0, ascending=False, inplace=True)\n",
    "    \n",
    "    print(\"Recommended Movies for\", x, \"by Overview\")\n",
    "    print(\"\\n\")\n",
    "    print(\"*****\")\n",
    "    \n",
    "    if x in df.index[:10]:\n",
    "        for i in df.index[:11]:\n",
    "            if i != x:\n",
    "                print(i)\n",
    "    else:\n",
    "        for i in df.index[:10]:\n",
    "            print(i)\n",
    "    print(\"*****\")"
   ]
  },
  {
   "cell_type": "code",
   "execution_count": 57,
   "metadata": {},
   "outputs": [
    {
     "name": "stdout",
     "output_type": "stream",
     "text": [
      "Recommended Movies for Star Wars by Overview\n",
      "\n",
      "\n",
      "*****\n",
      "The Empire Strikes Back\n",
      "Return of the Jedi\n",
      "Shanghai Noon\n",
      "Baahubali: The Beginning\n",
      "Arbitrage\n",
      "The Princess Bride\n",
      "Mirror Mirror\n",
      "History of the World: Part I\n",
      "The Princess Diaries 2: Royal Engagement\n",
      "Topsy-Turvy\n",
      "*****\n"
     ]
    }
   ],
   "source": [
    "recommend_movie_by_overview(\"Star Wars\")"
   ]
  },
  {
   "cell_type": "code",
   "execution_count": 58,
   "metadata": {},
   "outputs": [
    {
     "name": "stdout",
     "output_type": "stream",
     "text": [
      "Recommended Movies for Fury by Overview\n",
      "\n",
      "\n",
      "*****\n",
      "The Great Raid\n",
      "One Man's Hero\n",
      "Der Untergang\n",
      "U-571\n",
      "Enemy at the Gates\n",
      "The Monuments Men\n",
      "The Nutty Professor\n",
      "Proud\n",
      "The Big Parade\n",
      "The Thin Red Line\n",
      "*****\n"
     ]
    }
   ],
   "source": [
    "recommend_movie_by_overview(\"Fury\")"
   ]
  },
  {
   "cell_type": "markdown",
   "metadata": {},
   "source": [
    "### Recommended by keyword"
   ]
  },
  {
   "cell_type": "code",
   "execution_count": 59,
   "metadata": {},
   "outputs": [],
   "source": [
    "movie[\"keywords\"] = movie[\"keywords\"].apply(lambda x: \" \".join(x))"
   ]
  },
  {
   "cell_type": "code",
   "execution_count": 60,
   "metadata": {},
   "outputs": [
    {
     "data": {
      "text/plain": [
       "(4795, 7063)"
      ]
     },
     "execution_count": 60,
     "metadata": {},
     "output_type": "execute_result"
    }
   ],
   "source": [
    "tfidf = TfidfVectorizer(stop_words=\"english\")\n",
    "overview_matrix_keywords = tfidf.fit_transform(movie[\"keywords\"])\n",
    "overview_matrix_keywords.shape"
   ]
  },
  {
   "cell_type": "code",
   "execution_count": 61,
   "metadata": {},
   "outputs": [
    {
     "data": {
      "text/plain": [
       "array([[1.        , 0.01284785, 0.        , ..., 0.02125237, 0.        ,\n",
       "        0.        ],\n",
       "       [0.01284785, 1.        , 0.        , ..., 0.02620914, 0.        ,\n",
       "        0.        ],\n",
       "       [0.        , 0.        , 1.        , ..., 0.        , 0.        ,\n",
       "        0.        ],\n",
       "       ...,\n",
       "       [0.02125237, 0.02620914, 0.        , ..., 1.        , 0.        ,\n",
       "        0.        ],\n",
       "       [0.        , 0.        , 0.        , ..., 0.        , 1.        ,\n",
       "        0.        ],\n",
       "       [0.        , 0.        , 0.        , ..., 0.        , 0.        ,\n",
       "        1.        ]])"
      ]
     },
     "execution_count": 61,
     "metadata": {},
     "output_type": "execute_result"
    }
   ],
   "source": [
    "similarity_matrix_keywords = linear_kernel(overview_matrix_keywords,overview_matrix_keywords)\n",
    "similarity_matrix_keywords"
   ]
  },
  {
   "cell_type": "code",
   "execution_count": 62,
   "metadata": {},
   "outputs": [],
   "source": [
    "def recommend_movie_by_keywords(x):\n",
    "    \n",
    "    \n",
    "    \"\"\" This function apply these phases: \n",
    "        \n",
    "        1. Find the index of input movie\n",
    "        2. Create dataframe by the data of similarity_matrix_keywords with using index of movie\n",
    "        3. Sort dataframe by the similarity values\n",
    "        4. Recommend 10 movie \"\"\"\n",
    "    \n",
    "    new_index = movie_index[x]\n",
    "    df = pd.DataFrame(similarity_matrix_keywords[new_index], index=movie.index)\n",
    "    df.sort_values(by=0, ascending=False, inplace= True)\n",
    "    \n",
    "    print(\"Recommended Movies for\", x, \"by Keywords\")\n",
    "    print(\"\\n\")\n",
    "    print(\"*****\")\n",
    "    \n",
    "    if x in df.index[:10]:\n",
    "        for i in df.index[:11]:\n",
    "            if i != x:\n",
    "                print(i)\n",
    "    else:\n",
    "        for i in df.index[:10]:\n",
    "            print(i)\n",
    "    print(\"*****\")"
   ]
  },
  {
   "cell_type": "code",
   "execution_count": 63,
   "metadata": {},
   "outputs": [
    {
     "name": "stdout",
     "output_type": "stream",
     "text": [
      "Recommended Movies for Star Wars by Keywords\n",
      "\n",
      "\n",
      "*****\n",
      "The Empire Strikes Back\n",
      "Titan A.E.\n",
      "Return of the Jedi\n",
      "Star Wars: Episode III - Revenge of the Sith\n",
      "Star Wars: Episode II - Attack of the Clones\n",
      "Star Wars: Episode I - The Phantom Menace\n",
      "Spaceballs\n",
      "Killer Elite\n",
      "Star Wars: Clone Wars (Volume 1)\n",
      "Gravity\n",
      "*****\n"
     ]
    }
   ],
   "source": [
    "recommend_movie_by_keywords(\"Star Wars\")"
   ]
  },
  {
   "cell_type": "code",
   "execution_count": 64,
   "metadata": {},
   "outputs": [
    {
     "name": "stdout",
     "output_type": "stream",
     "text": [
      "Recommended Movies for Fury by Keywords\n",
      "\n",
      "\n",
      "*****\n",
      "The Book Thief\n",
      "The Monuments Men\n",
      "Saints and Soldiers\n",
      "A Bridge Too Far\n",
      "All The Queen's Men\n",
      "Oorlogswinter\n",
      "Captain America: The First Avenger\n",
      "Torn Curtain\n",
      "Little Boy\n",
      "Unbroken\n",
      "*****\n"
     ]
    }
   ],
   "source": [
    "recommend_movie_by_keywords(\"Fury\")"
   ]
  },
  {
   "cell_type": "markdown",
   "metadata": {},
   "source": [
    "#### Combine Three Features"
   ]
  },
  {
   "cell_type": "markdown",
   "metadata": {},
   "source": [
    "So far, we applied content-based recommender systems by genre type, overview and keywords. We mostly get good results. But joining the overview matrix of three columns will get more powerful results."
   ]
  },
  {
   "cell_type": "code",
   "execution_count": 65,
   "metadata": {},
   "outputs": [],
   "source": [
    "# Creating three dataframe by the overview_matrix of genre, overview and keywords column.\n",
    "\n",
    "combine1 = pd.DataFrame(overview_matrix_genre.toarray(), index = movie.index)\n",
    "combine1.reset_index(inplace=True)\n",
    "combine2 = pd.DataFrame(overview_matrix_overview.toarray(), index = movie.index)\n",
    "combine2.reset_index(inplace=True)\n",
    "combine3 = pd.DataFrame(overview_matrix_keywords.toarray(), index = movie.index)\n",
    "combine3.reset_index(inplace=True)"
   ]
  },
  {
   "cell_type": "code",
   "execution_count": 68,
   "metadata": {},
   "outputs": [],
   "source": [
    "# Combining three dataframes\n",
    "\n",
    "combine = combine1.join(combine2, lsuffix=\"genre\", rsuffix=\"overview\")\n",
    "combine = combine.join(combine3, rsuffix=\"keywords\")\n",
    "combine.drop([\"original_titleoverview\", \"original_title\"], axis=1, inplace=True)\n",
    "combine.set_index(\"original_titlegenre\", inplace=True)"
   ]
  },
  {
   "cell_type": "code",
   "execution_count": 69,
   "metadata": {},
   "outputs": [
    {
     "data": {
      "text/html": [
       "<div>\n",
       "<style scoped>\n",
       "    .dataframe tbody tr th:only-of-type {\n",
       "        vertical-align: middle;\n",
       "    }\n",
       "\n",
       "    .dataframe tbody tr th {\n",
       "        vertical-align: top;\n",
       "    }\n",
       "\n",
       "    .dataframe thead th {\n",
       "        text-align: right;\n",
       "    }\n",
       "</style>\n",
       "<table border=\"1\" class=\"dataframe\">\n",
       "  <thead>\n",
       "    <tr style=\"text-align: right;\">\n",
       "      <th></th>\n",
       "      <th>0genre</th>\n",
       "      <th>1genre</th>\n",
       "      <th>2genre</th>\n",
       "      <th>3genre</th>\n",
       "      <th>4genre</th>\n",
       "      <th>5genre</th>\n",
       "      <th>6genre</th>\n",
       "      <th>7genre</th>\n",
       "      <th>8genre</th>\n",
       "      <th>9genre</th>\n",
       "      <th>10genre</th>\n",
       "      <th>11genre</th>\n",
       "      <th>12genre</th>\n",
       "      <th>13genre</th>\n",
       "      <th>14genre</th>\n",
       "      <th>15genre</th>\n",
       "      <th>16genre</th>\n",
       "      <th>17genre</th>\n",
       "      <th>18genre</th>\n",
       "      <th>19genre</th>\n",
       "      <th>20genre</th>\n",
       "      <th>21genre</th>\n",
       "      <th>0overview</th>\n",
       "      <th>1overview</th>\n",
       "      <th>2overview</th>\n",
       "      <th>...</th>\n",
       "      <th>7038keywords</th>\n",
       "      <th>7039keywords</th>\n",
       "      <th>7040keywords</th>\n",
       "      <th>7041keywords</th>\n",
       "      <th>7042keywords</th>\n",
       "      <th>7043keywords</th>\n",
       "      <th>7044keywords</th>\n",
       "      <th>7045keywords</th>\n",
       "      <th>7046keywords</th>\n",
       "      <th>7047keywords</th>\n",
       "      <th>7048keywords</th>\n",
       "      <th>7049keywords</th>\n",
       "      <th>7050keywords</th>\n",
       "      <th>7051keywords</th>\n",
       "      <th>7052keywords</th>\n",
       "      <th>7053keywords</th>\n",
       "      <th>7054keywords</th>\n",
       "      <th>7055keywords</th>\n",
       "      <th>7056keywords</th>\n",
       "      <th>7057keywords</th>\n",
       "      <th>7058keywords</th>\n",
       "      <th>7059keywords</th>\n",
       "      <th>7060keywords</th>\n",
       "      <th>7061keywords</th>\n",
       "      <th>7062keywords</th>\n",
       "    </tr>\n",
       "    <tr>\n",
       "      <th>original_titlegenre</th>\n",
       "      <th></th>\n",
       "      <th></th>\n",
       "      <th></th>\n",
       "      <th></th>\n",
       "      <th></th>\n",
       "      <th></th>\n",
       "      <th></th>\n",
       "      <th></th>\n",
       "      <th></th>\n",
       "      <th></th>\n",
       "      <th></th>\n",
       "      <th></th>\n",
       "      <th></th>\n",
       "      <th></th>\n",
       "      <th></th>\n",
       "      <th></th>\n",
       "      <th></th>\n",
       "      <th></th>\n",
       "      <th></th>\n",
       "      <th></th>\n",
       "      <th></th>\n",
       "      <th></th>\n",
       "      <th></th>\n",
       "      <th></th>\n",
       "      <th></th>\n",
       "      <th></th>\n",
       "      <th></th>\n",
       "      <th></th>\n",
       "      <th></th>\n",
       "      <th></th>\n",
       "      <th></th>\n",
       "      <th></th>\n",
       "      <th></th>\n",
       "      <th></th>\n",
       "      <th></th>\n",
       "      <th></th>\n",
       "      <th></th>\n",
       "      <th></th>\n",
       "      <th></th>\n",
       "      <th></th>\n",
       "      <th></th>\n",
       "      <th></th>\n",
       "      <th></th>\n",
       "      <th></th>\n",
       "      <th></th>\n",
       "      <th></th>\n",
       "      <th></th>\n",
       "      <th></th>\n",
       "      <th></th>\n",
       "      <th></th>\n",
       "      <th></th>\n",
       "    </tr>\n",
       "  </thead>\n",
       "  <tbody>\n",
       "    <tr>\n",
       "      <th>Avatar</th>\n",
       "      <td>0.358084</td>\n",
       "      <td>0.413866</td>\n",
       "      <td>0.0</td>\n",
       "      <td>0.0</td>\n",
       "      <td>0.000000</td>\n",
       "      <td>0.0</td>\n",
       "      <td>0.0</td>\n",
       "      <td>0.0</td>\n",
       "      <td>0.505613</td>\n",
       "      <td>0.471618</td>\n",
       "      <td>0.0</td>\n",
       "      <td>0.0</td>\n",
       "      <td>0.0</td>\n",
       "      <td>0.0</td>\n",
       "      <td>0.0</td>\n",
       "      <td>0.0</td>\n",
       "      <td>0.471618</td>\n",
       "      <td>0.0</td>\n",
       "      <td>0.0</td>\n",
       "      <td>0.0</td>\n",
       "      <td>0.0</td>\n",
       "      <td>0.0</td>\n",
       "      <td>0.0</td>\n",
       "      <td>0.0</td>\n",
       "      <td>0.0</td>\n",
       "      <td>...</td>\n",
       "      <td>0.0</td>\n",
       "      <td>0.0</td>\n",
       "      <td>0.0</td>\n",
       "      <td>0.0</td>\n",
       "      <td>0.0</td>\n",
       "      <td>0.0</td>\n",
       "      <td>0.0</td>\n",
       "      <td>0.0</td>\n",
       "      <td>0.0</td>\n",
       "      <td>0.0</td>\n",
       "      <td>0.0</td>\n",
       "      <td>0.0</td>\n",
       "      <td>0.0</td>\n",
       "      <td>0.0</td>\n",
       "      <td>0.0</td>\n",
       "      <td>0.0</td>\n",
       "      <td>0.0</td>\n",
       "      <td>0.0</td>\n",
       "      <td>0.0</td>\n",
       "      <td>0.0</td>\n",
       "      <td>0.0</td>\n",
       "      <td>0.0</td>\n",
       "      <td>0.0</td>\n",
       "      <td>0.0</td>\n",
       "      <td>0.0</td>\n",
       "    </tr>\n",
       "    <tr>\n",
       "      <th>Pirates of the Caribbean: At World's End</th>\n",
       "      <td>0.480594</td>\n",
       "      <td>0.555460</td>\n",
       "      <td>0.0</td>\n",
       "      <td>0.0</td>\n",
       "      <td>0.000000</td>\n",
       "      <td>0.0</td>\n",
       "      <td>0.0</td>\n",
       "      <td>0.0</td>\n",
       "      <td>0.678596</td>\n",
       "      <td>0.000000</td>\n",
       "      <td>0.0</td>\n",
       "      <td>0.0</td>\n",
       "      <td>0.0</td>\n",
       "      <td>0.0</td>\n",
       "      <td>0.0</td>\n",
       "      <td>0.0</td>\n",
       "      <td>0.000000</td>\n",
       "      <td>0.0</td>\n",
       "      <td>0.0</td>\n",
       "      <td>0.0</td>\n",
       "      <td>0.0</td>\n",
       "      <td>0.0</td>\n",
       "      <td>0.0</td>\n",
       "      <td>0.0</td>\n",
       "      <td>0.0</td>\n",
       "      <td>...</td>\n",
       "      <td>0.0</td>\n",
       "      <td>0.0</td>\n",
       "      <td>0.0</td>\n",
       "      <td>0.0</td>\n",
       "      <td>0.0</td>\n",
       "      <td>0.0</td>\n",
       "      <td>0.0</td>\n",
       "      <td>0.0</td>\n",
       "      <td>0.0</td>\n",
       "      <td>0.0</td>\n",
       "      <td>0.0</td>\n",
       "      <td>0.0</td>\n",
       "      <td>0.0</td>\n",
       "      <td>0.0</td>\n",
       "      <td>0.0</td>\n",
       "      <td>0.0</td>\n",
       "      <td>0.0</td>\n",
       "      <td>0.0</td>\n",
       "      <td>0.0</td>\n",
       "      <td>0.0</td>\n",
       "      <td>0.0</td>\n",
       "      <td>0.0</td>\n",
       "      <td>0.0</td>\n",
       "      <td>0.0</td>\n",
       "      <td>0.0</td>\n",
       "    </tr>\n",
       "    <tr>\n",
       "      <th>Spectre</th>\n",
       "      <td>0.513328</td>\n",
       "      <td>0.593293</td>\n",
       "      <td>0.0</td>\n",
       "      <td>0.0</td>\n",
       "      <td>0.620079</td>\n",
       "      <td>0.0</td>\n",
       "      <td>0.0</td>\n",
       "      <td>0.0</td>\n",
       "      <td>0.000000</td>\n",
       "      <td>0.000000</td>\n",
       "      <td>0.0</td>\n",
       "      <td>0.0</td>\n",
       "      <td>0.0</td>\n",
       "      <td>0.0</td>\n",
       "      <td>0.0</td>\n",
       "      <td>0.0</td>\n",
       "      <td>0.000000</td>\n",
       "      <td>0.0</td>\n",
       "      <td>0.0</td>\n",
       "      <td>0.0</td>\n",
       "      <td>0.0</td>\n",
       "      <td>0.0</td>\n",
       "      <td>0.0</td>\n",
       "      <td>0.0</td>\n",
       "      <td>0.0</td>\n",
       "      <td>...</td>\n",
       "      <td>0.0</td>\n",
       "      <td>0.0</td>\n",
       "      <td>0.0</td>\n",
       "      <td>0.0</td>\n",
       "      <td>0.0</td>\n",
       "      <td>0.0</td>\n",
       "      <td>0.0</td>\n",
       "      <td>0.0</td>\n",
       "      <td>0.0</td>\n",
       "      <td>0.0</td>\n",
       "      <td>0.0</td>\n",
       "      <td>0.0</td>\n",
       "      <td>0.0</td>\n",
       "      <td>0.0</td>\n",
       "      <td>0.0</td>\n",
       "      <td>0.0</td>\n",
       "      <td>0.0</td>\n",
       "      <td>0.0</td>\n",
       "      <td>0.0</td>\n",
       "      <td>0.0</td>\n",
       "      <td>0.0</td>\n",
       "      <td>0.0</td>\n",
       "      <td>0.0</td>\n",
       "      <td>0.0</td>\n",
       "      <td>0.0</td>\n",
       "    </tr>\n",
       "  </tbody>\n",
       "</table>\n",
       "<p>3 rows × 28055 columns</p>\n",
       "</div>"
      ],
      "text/plain": [
       "                                            0genre    1genre  2genre  3genre  \\\n",
       "original_titlegenre                                                            \n",
       "Avatar                                    0.358084  0.413866     0.0     0.0   \n",
       "Pirates of the Caribbean: At World's End  0.480594  0.555460     0.0     0.0   \n",
       "Spectre                                   0.513328  0.593293     0.0     0.0   \n",
       "\n",
       "                                            4genre  5genre  6genre  7genre  \\\n",
       "original_titlegenre                                                          \n",
       "Avatar                                    0.000000     0.0     0.0     0.0   \n",
       "Pirates of the Caribbean: At World's End  0.000000     0.0     0.0     0.0   \n",
       "Spectre                                   0.620079     0.0     0.0     0.0   \n",
       "\n",
       "                                            8genre    9genre  10genre  \\\n",
       "original_titlegenre                                                     \n",
       "Avatar                                    0.505613  0.471618      0.0   \n",
       "Pirates of the Caribbean: At World's End  0.678596  0.000000      0.0   \n",
       "Spectre                                   0.000000  0.000000      0.0   \n",
       "\n",
       "                                          11genre  12genre  13genre  14genre  \\\n",
       "original_titlegenre                                                            \n",
       "Avatar                                        0.0      0.0      0.0      0.0   \n",
       "Pirates of the Caribbean: At World's End      0.0      0.0      0.0      0.0   \n",
       "Spectre                                       0.0      0.0      0.0      0.0   \n",
       "\n",
       "                                          15genre   16genre  17genre  18genre  \\\n",
       "original_titlegenre                                                             \n",
       "Avatar                                        0.0  0.471618      0.0      0.0   \n",
       "Pirates of the Caribbean: At World's End      0.0  0.000000      0.0      0.0   \n",
       "Spectre                                       0.0  0.000000      0.0      0.0   \n",
       "\n",
       "                                          19genre  20genre  21genre  \\\n",
       "original_titlegenre                                                   \n",
       "Avatar                                        0.0      0.0      0.0   \n",
       "Pirates of the Caribbean: At World's End      0.0      0.0      0.0   \n",
       "Spectre                                       0.0      0.0      0.0   \n",
       "\n",
       "                                          0overview  1overview  2overview  \\\n",
       "original_titlegenre                                                         \n",
       "Avatar                                          0.0        0.0        0.0   \n",
       "Pirates of the Caribbean: At World's End        0.0        0.0        0.0   \n",
       "Spectre                                         0.0        0.0        0.0   \n",
       "\n",
       "                                          ...  7038keywords  7039keywords  \\\n",
       "original_titlegenre                       ...                               \n",
       "Avatar                                    ...           0.0           0.0   \n",
       "Pirates of the Caribbean: At World's End  ...           0.0           0.0   \n",
       "Spectre                                   ...           0.0           0.0   \n",
       "\n",
       "                                          7040keywords  7041keywords  \\\n",
       "original_titlegenre                                                    \n",
       "Avatar                                             0.0           0.0   \n",
       "Pirates of the Caribbean: At World's End           0.0           0.0   \n",
       "Spectre                                            0.0           0.0   \n",
       "\n",
       "                                          7042keywords  7043keywords  \\\n",
       "original_titlegenre                                                    \n",
       "Avatar                                             0.0           0.0   \n",
       "Pirates of the Caribbean: At World's End           0.0           0.0   \n",
       "Spectre                                            0.0           0.0   \n",
       "\n",
       "                                          7044keywords  7045keywords  \\\n",
       "original_titlegenre                                                    \n",
       "Avatar                                             0.0           0.0   \n",
       "Pirates of the Caribbean: At World's End           0.0           0.0   \n",
       "Spectre                                            0.0           0.0   \n",
       "\n",
       "                                          7046keywords  7047keywords  \\\n",
       "original_titlegenre                                                    \n",
       "Avatar                                             0.0           0.0   \n",
       "Pirates of the Caribbean: At World's End           0.0           0.0   \n",
       "Spectre                                            0.0           0.0   \n",
       "\n",
       "                                          7048keywords  7049keywords  \\\n",
       "original_titlegenre                                                    \n",
       "Avatar                                             0.0           0.0   \n",
       "Pirates of the Caribbean: At World's End           0.0           0.0   \n",
       "Spectre                                            0.0           0.0   \n",
       "\n",
       "                                          7050keywords  7051keywords  \\\n",
       "original_titlegenre                                                    \n",
       "Avatar                                             0.0           0.0   \n",
       "Pirates of the Caribbean: At World's End           0.0           0.0   \n",
       "Spectre                                            0.0           0.0   \n",
       "\n",
       "                                          7052keywords  7053keywords  \\\n",
       "original_titlegenre                                                    \n",
       "Avatar                                             0.0           0.0   \n",
       "Pirates of the Caribbean: At World's End           0.0           0.0   \n",
       "Spectre                                            0.0           0.0   \n",
       "\n",
       "                                          7054keywords  7055keywords  \\\n",
       "original_titlegenre                                                    \n",
       "Avatar                                             0.0           0.0   \n",
       "Pirates of the Caribbean: At World's End           0.0           0.0   \n",
       "Spectre                                            0.0           0.0   \n",
       "\n",
       "                                          7056keywords  7057keywords  \\\n",
       "original_titlegenre                                                    \n",
       "Avatar                                             0.0           0.0   \n",
       "Pirates of the Caribbean: At World's End           0.0           0.0   \n",
       "Spectre                                            0.0           0.0   \n",
       "\n",
       "                                          7058keywords  7059keywords  \\\n",
       "original_titlegenre                                                    \n",
       "Avatar                                             0.0           0.0   \n",
       "Pirates of the Caribbean: At World's End           0.0           0.0   \n",
       "Spectre                                            0.0           0.0   \n",
       "\n",
       "                                          7060keywords  7061keywords  \\\n",
       "original_titlegenre                                                    \n",
       "Avatar                                             0.0           0.0   \n",
       "Pirates of the Caribbean: At World's End           0.0           0.0   \n",
       "Spectre                                            0.0           0.0   \n",
       "\n",
       "                                          7062keywords  \n",
       "original_titlegenre                                     \n",
       "Avatar                                             0.0  \n",
       "Pirates of the Caribbean: At World's End           0.0  \n",
       "Spectre                                            0.0  \n",
       "\n",
       "[3 rows x 28055 columns]"
      ]
     },
     "execution_count": 69,
     "metadata": {},
     "output_type": "execute_result"
    }
   ],
   "source": [
    "combine.head(3)"
   ]
  },
  {
   "cell_type": "code",
   "execution_count": 70,
   "metadata": {},
   "outputs": [
    {
     "data": {
      "text/plain": [
       "(4795, 28055)"
      ]
     },
     "execution_count": 70,
     "metadata": {},
     "output_type": "execute_result"
    }
   ],
   "source": [
    "combine.shape"
   ]
  },
  {
   "cell_type": "code",
   "execution_count": 71,
   "metadata": {},
   "outputs": [
    {
     "data": {
      "text/plain": [
       "array([[3.        , 0.75793412, 0.42935843, ..., 0.02125237, 0.        ,\n",
       "        0.        ],\n",
       "       [0.75793412, 3.        , 0.57625331, ..., 0.04781   , 0.        ,\n",
       "        0.        ],\n",
       "       [0.42935843, 0.57625331, 3.        , ..., 0.01487813, 0.        ,\n",
       "        0.        ],\n",
       "       ...,\n",
       "       [0.02125237, 0.04781   , 0.01487813, ..., 3.        , 0.01608529,\n",
       "        0.00701461],\n",
       "       [0.        , 0.        , 0.        , ..., 0.01608529, 3.        ,\n",
       "        0.01170856],\n",
       "       [0.        , 0.        , 0.        , ..., 0.00701461, 0.01170856,\n",
       "        3.        ]])"
      ]
     },
     "execution_count": 71,
     "metadata": {},
     "output_type": "execute_result"
    }
   ],
   "source": [
    "similarity_matrix_combine = linear_kernel(combine,combine)\n",
    "similarity_matrix_combine"
   ]
  },
  {
   "cell_type": "code",
   "execution_count": 72,
   "metadata": {},
   "outputs": [],
   "source": [
    "def recommend_movie_by_combine(x):\n",
    "    \n",
    "    \n",
    "    \"\"\" This function apply these phases: \n",
    "        \n",
    "        1. Find the index of input movie\n",
    "        2. Create dataframe by the data of similarity_matrix_combine with using index of movie\n",
    "        3. Sort dataframe by the similarity values\n",
    "        4. Recommend 10 movie \"\"\"\n",
    "    \n",
    "    new_index = movie_index[x]\n",
    "    df = pd.DataFrame(similarity_matrix_combine[new_index], index=movie.index)\n",
    "    df.sort_values(by=0, ascending=False, inplace=True)\n",
    "    \n",
    "    print(\"Recommended Movies for\", x, \"by Combined Technique\")\n",
    "    print(\"\\n\")\n",
    "    print(\"*****\")\n",
    "    \n",
    "    if x in df.index[:10]:\n",
    "        for i in df.index[:10]:\n",
    "            if i != x:\n",
    "                print(i)\n",
    "    else:\n",
    "        for i in df.index[:10]:\n",
    "            print(i)\n",
    "    print(\"*****\")"
   ]
  },
  {
   "cell_type": "code",
   "execution_count": 73,
   "metadata": {},
   "outputs": [
    {
     "name": "stdout",
     "output_type": "stream",
     "text": [
      "Recommended Movies for Star Wars by Combined Technique\n",
      "\n",
      "\n",
      "*****\n",
      "The Empire Strikes Back\n",
      "Return of the Jedi\n",
      "Star Wars: Episode III - Revenge of the Sith\n",
      "Star Wars: Episode II - Attack of the Clones\n",
      "Star Wars: Episode I - The Phantom Menace\n",
      "Star Trek Into Darkness\n",
      "Star Trek Beyond\n",
      "Star Trek\n",
      "Star Trek: Nemesis\n",
      "*****\n"
     ]
    }
   ],
   "source": [
    "recommend_movie_by_combine(\"Star Wars\")"
   ]
  },
  {
   "cell_type": "code",
   "execution_count": 74,
   "metadata": {},
   "outputs": [
    {
     "name": "stdout",
     "output_type": "stream",
     "text": [
      "Recommended Movies for Fury by Combined Technique\n",
      "\n",
      "\n",
      "*****\n",
      "The Monuments Men\n",
      "U-571\n",
      "Unbroken\n",
      "Saints and Soldiers\n",
      "The Train\n",
      "Hart's War\n",
      "Enemy at the Gates\n",
      "A Bridge Too Far\n",
      "The Pianist\n",
      "*****\n"
     ]
    }
   ],
   "source": [
    "recommend_movie_by_combine(\"Fury\")"
   ]
  },
  {
   "cell_type": "markdown",
   "metadata": {},
   "source": [
    "## Conclusion"
   ]
  },
  {
   "cell_type": "markdown",
   "metadata": {},
   "source": [
    "Tf-Idf Vectorizer is useful for content-based recommendation systems. We use the matrix which is the prediction result of TfIdfVectorizer for similarities. Then with using linear_kernel, we get the similarity between each movie."
   ]
  },
  {
   "cell_type": "markdown",
   "metadata": {},
   "source": [
    "At first, we get recommendation by genre, keywords, overview seperately. "
   ]
  },
  {
   "cell_type": "markdown",
   "metadata": {},
   "source": [
    " - Recommendation by genre can cause problems. Because, the number of unique genre is low and recommendation will not be effective."
   ]
  },
  {
   "cell_type": "markdown",
   "metadata": {},
   "source": [
    " - Recommendation by overview returns more accurate results than genre."
   ]
  },
  {
   "cell_type": "markdown",
   "metadata": {},
   "source": [
    " - Recommendation by keywords are the best to compare with others. "
   ]
  },
  {
   "cell_type": "markdown",
   "metadata": {},
   "source": [
    "However, we can get better results with combining all recommendation techniques. Each matrix will have Tf-Idf score for their futures. In the combining process,\n",
    "those scores will not change. Then, we will get similarity matrix. Finally, the result is more accurate than other techniques."
   ]
  }
 ],
 "metadata": {
  "kernelspec": {
   "display_name": "Python 3",
   "language": "python",
   "name": "python3"
  },
  "language_info": {
   "codemirror_mode": {
    "name": "ipython",
    "version": 3
   },
   "file_extension": ".py",
   "mimetype": "text/x-python",
   "name": "python",
   "nbconvert_exporter": "python",
   "pygments_lexer": "ipython3",
   "version": "3.8.5"
  }
 },
 "nbformat": 4,
 "nbformat_minor": 4
}
